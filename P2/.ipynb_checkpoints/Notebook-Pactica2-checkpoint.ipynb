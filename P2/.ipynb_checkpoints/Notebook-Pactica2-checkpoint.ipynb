{
 "cells": [
  {
   "cell_type": "markdown",
   "metadata": {},
   "source": [
    "# Práctica 2: Ipyhton notebook con pruebas y resultados\n",
    "\n",
    "<br>**Asignatura:** Prácticas de Fundamentos de Aprendizaje Automático</br>\n",
    "<br>**Autores:** Albert Soler y Alfonso Sebares</br>\n",
    "\n",
    "### Qué hay en este notebook:\n",
    "\n",
    "De manera estructurada por los apartados especificados en el enunciado de la práctica, se incluyen las instrucciones necesarias para realizar las pruebas descritas en el apartado 2 del enunciado, así como una breve descripción y análisis de dichas pruebas.\n",
    "\n",
    "\n",
    "### Índice:\n",
    "1. Apartado 1 \n",
    "2. Apartado 2\n",
    "3. Apartado 3\n",
    "------------------------------------"
   ]
  },
  {
   "cell_type": "markdown",
   "metadata": {},
   "source": [
    "Primero preparamos el notebook para poder utilizar las funciones de la estructura de clases así como acceder a las variables de clase:"
   ]
  },
  {
   "cell_type": "code",
   "execution_count": 1,
   "metadata": {
    "collapsed": true
   },
   "outputs": [],
   "source": [
    "import os\n",
    "import sys\n",
    "module_path = os.path.abspath(os.path.join('..'))\n",
    "if module_path not in sys.path:\n",
    "    sys.path.append(module_path)"
   ]
  },
  {
   "cell_type": "markdown",
   "metadata": {},
   "source": [
    "### Apartado 1\n",
    "A continuación tenemos por apartados los resultados de la ejecución para los distintos conjuntos de datos analizados. Las pruebas se realizan con validación cruzada, k=10.\n"
   ]
  },
  {
   "cell_type": "markdown",
   "metadata": {},
   "source": [
    "### Apartado 2\n",
    "\n",
    "A la vista de los resultados en sucesivas ejecuciones de las pruiebas, para los distintos conjuntos de datos, sacamos las siguiesntes conclusiones:\n",
    "* **tic-tac-toe**: Comparando las tasas de error (~30%) para las distintas versiones de pruebas, podemos decir que influye poco el clasificador o el uso de la corrección de Laplace. Lo primero se debe a que todos los atributos son nominales. En cuanto a la falta de variación con Laplace, dado que no hay casos que no estén contemplados, no influye en la predicción.\n",
    "* **wine**: Para este conjunto de datos, hemos observado que obtenemos una tasa media de error del orden del 60%. Tras contrastar estos resultados con la clase, nos damos cuenta aquí que es posible que no estemos clasificando correctamente los conjuntos de datos con atributos continuos. No podemos sacar nada conlcuyente ya que obtenemos mas o menos el mismo error para \"A priori\" y NB, sin importar la correción de Laplace en principio (aunque dependerá de si los atributos continuos se ajustan a una distribución normal o no).\n",
    "* **credit apporval**: De nuevo obtenemos una tasa de errores muy alta, del orden del 50% en todas sus variantes (con o sin corrección de Laplace, normal o clean). Sin embargo, tras realizar varias ejecuciones, vemos que la clasificación a priori suele tener un 5% menos de errores de media. Al ser un conjunto de datos mixto, esto refuerza nuestra teoría de que estamos realizando mal alguna parte del proceso de clasificación cuando introducimos atributos continuos en el conjunto de datos.\n",
    "* **digits**: Este último conjunto de datos está formado sólo por atributos continuos. Como obtenemos tasas de error aún más altas, del orden del 90% en todas sus variantes, confirmamos lo comentado anteriormente. No podemos sacar nada concluyente de estos resultados y nos queda revisar nuestro código."
   ]
  },
  {
   "cell_type": "markdown",
   "metadata": {},
   "source": [
    "### Apartado 3\n",
    "Para el conjunto tic-tac-toe calculamos las probabilidades a priori y máx. verosimilitud (sin y con correción de Laplace) para los atributos que se nos pide del conjunto tic-tac-toe."
   ]
  }
 ],
 "metadata": {
  "anaconda-cloud": {},
  "kernelspec": {
   "display_name": "Python [default]",
   "language": "python",
   "name": "python2"
  },
  "language_info": {
   "codemirror_mode": {
    "name": "ipython",
    "version": 2
   },
   "file_extension": ".py",
   "mimetype": "text/x-python",
   "name": "python",
   "nbconvert_exporter": "python",
   "pygments_lexer": "ipython2",
   "version": "2.7.12"
  }
 },
 "nbformat": 4,
 "nbformat_minor": 0
}
