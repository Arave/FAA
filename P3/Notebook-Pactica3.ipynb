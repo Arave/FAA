{
 "cells": [
  {
   "cell_type": "markdown",
   "metadata": {},
   "source": [
    "# Práctica 3: Ipyhton notebook con pruebas, resultados y análisis\n",
    "\n",
    "<br>**Asignatura:** Prácticas de Fundamentos de Aprendizaje Automático</br>\n",
    "<br>**Autores:** Albert Soler y Alfonso Sebares</br>\n",
    "\n",
    "------------------------------------\n",
    "\n",
    "### Notas relevantes (actualizado para la Práctica 3):\n",
    "* Para poder manejar los notebook con Jupyter se ha seguido la [recomendación](http://jupyter.readthedocs.io/en/latest/install.html) de instalar Anaconda junto a su gestor de paquetes 'conda', en la línea de al práctica 0. Sin embargo, la version del módulo `sklearn` incluída por defecto es la 0.17. Dado que algunos módulos que hemos utilizado, como [sklearn.model_selection](http://scikit-learn.org/stable/modules/classes.html#module-sklearn.model_selection), sólo se encuentran en la versión 0.18 en adelante, sería necesario actualizar el módulo para el correcto funcionamiento de las pruebas dentro del notebook en caso de tener problemas. Bastaría con los siguientes comandos para actualizar el módulo: \n",
    "```\n",
    "conda update conda\n",
    "conda install scikit-learn=0.18\n",
    "```\n",
    "* Si se ejecuta el programa directamente sobre el intérprete de python de la máquina, también será imprescindible la versión 0.18 o más para el correcto funcionamiento de las pruebas scikit-learn.\n",
    "\n",
    "* Se incluye el fichero `run_completo.txt` con una ejecución completa de `testapartado2.py` del Apartado 2 ya que lleva bastante tiempo la ejecución de las pruebas.\n",
    "\n",
    "------------------------------------\n",
    "\n",
    "### Qué hay en este notebook:\n",
    "\n",
    "De manera estructurada por los apartados especificados con respecto al Ipython Notebook, se incluyen las explicaciones de la práctica e instrucciones necesarias para realizar las pruebas descritas en el apartado 2 del enunciado con una breve descripción y análisis de dichas pruebas al final.\n",
    "\n",
    "------------------------------------\n",
    "\n",
    "### Índice:\n",
    "1. **Apartado 1**\n",
    "    1. Generación de la población inicial con especial indicación del número de reglas por individuo consideradas\n",
    "    2. Mecanismo de cruce implementado\n",
    "    3. Mecanismo de mutación implementado\n",
    "    4. Mecanismo de clasificación implementado<br><br>\n",
    "2. **Apartado 2 - Resultados**\n",
    "    1. tic-tac-toe\n",
    "    2. example2\n",
    "    3. ejemplo5\n",
    "    4. ejemplo6\n",
    "    5. titanic<br><br>\n",
    "3. **Apartado 3 - Análisis de resultados**\n",
    "    <br><br>\n",
    "4. **Apartado 4**\n",
    "------------------------------------"
   ]
  },
  {
   "cell_type": "markdown",
   "metadata": {},
   "source": [
    "Primero definimos el path para que el notebook pueda utilizar los archivos de código fuente y a continuación realizamos los imports necesarios:"
   ]
  },
  {
   "cell_type": "code",
   "execution_count": 3,
   "metadata": {
    "collapsed": true
   },
   "outputs": [],
   "source": [
    "import os\n",
    "import sys\n",
    "module_path = os.path.abspath(os.path.join('..'))\n",
    "if module_path not in sys.path:\n",
    "    sys.path.append(module_path)\n",
    "from IPython.display import Image\n",
    "\n",
    "from EstrategiaParticionado import ValidacionCruzada\n",
    "from EstrategiaParticionado import ValidacionSimple\n",
    "from AlgoritmoGenetico import AlgoritmoGenetico\n",
    "from Main import Main"
   ]
  },
  {
   "cell_type": "markdown",
   "metadata": {},
   "source": [
    "### Apartado 1\n",
    "Descripción de algunos aspectos de la implementación de la práctica por apartados."
   ]
  },
  {
   "cell_type": "markdown",
   "metadata": {},
   "source": [
    "#### A. Generación de la población inicial con especial indicación del número de reglas por individuo consideradas"
   ]
  },
  {
   "cell_type": "markdown",
   "metadata": {},
   "source": []
  },
  {
   "cell_type": "markdown",
   "metadata": {},
   "source": [
    "#### B. Mecanismo de cruce implementado"
   ]
  },
  {
   "cell_type": "markdown",
   "metadata": {},
   "source": []
  },
  {
   "cell_type": "markdown",
   "metadata": {},
   "source": [
    "#### C. Mecanismo de mutación implementado"
   ]
  },
  {
   "cell_type": "markdown",
   "metadata": {},
   "source": []
  },
  {
   "cell_type": "markdown",
   "metadata": {},
   "source": [
    "#### D. Mecanismo de clasificación implementado"
   ]
  },
  {
   "cell_type": "markdown",
   "metadata": {},
   "source": []
  },
  {
   "cell_type": "markdown",
   "metadata": {},
   "source": [
    "------------------------------------"
   ]
  },
  {
   "cell_type": "markdown",
   "metadata": {},
   "source": [
    "### Apartado 2\n",
    "\n",
    "Resultados de clasificación para los distintos casos pedidos en el enunciado.\n",
    "\n",
    "**NOTA 1:** Para conjunto de datos se realizan las siguientes pruebas en batería:\n",
    "1. Tamaño de población = 10 ; Generaciones = 100\n",
    "2. Tamaño de población = 10 ; Generaciones = 500\n",
    "3. Tamaño de población = 200 ; Generaciones = 100\n",
    "4. Tamaño de población = 200 ; Generaciones = 500\n",
    "5. Tamaño de población = 500 ; Generaciones = 100\n",
    "6. Tamaño de población = 500 ; Generaciones = 500\n",
    "\n",
    "**NOTA 2**: Se incluye el código especificado en el enunciado para este apartado y sus resultados en forma de tabla (% de error). El output de dicho código no se incluye en el notebook dado que ocuparía varíás páginas sin demasiada relevancia."
   ]
  },
  {
   "cell_type": "markdown",
   "metadata": {},
   "source": [
    "|            |1    |2   | 3 | 4| 5|6|\n",
    "|------------|:-----------:|:--------:|:---------:|:-----------:|:-----------:|:-----------:|\n",
    "| tic-tac-toe|||||||\n",
    "| example2  |||||||\n",
    "| ejemplo5  |||||||\n",
    "| ejemplo6  |||||||\n",
    "| titanic   |||||||"
   ]
  },
  {
   "cell_type": "markdown",
   "metadata": {},
   "source": [
    "#### Parámetros previos: "
   ]
  },
  {
   "cell_type": "code",
   "execution_count": null,
   "metadata": {
    "collapsed": true
   },
   "outputs": [],
   "source": [
    "###################################################################################\n",
    "#[MODE] - Establece los parametros de ejecucion.\n",
    "#Prints:\n",
    "#   default     - sólo aquellos prints que se nos piden + resultados.\n",
    "#   verbose     - prints de debug en todas las fases, máx. de información (debug).\n",
    "#Diversidad:\n",
    "#   default     - sin alteraciones en el rand del num. de reglas.\n",
    "#   maxReglas-1 - genera 3 reglas para cada individuo salvo el último\n",
    "#                 (test alta diversidad en reglas por indv.).\n",
    "#Reglas_extra:\n",
    "#   default     - se trunca el numero de reglas si no matchea entre padre,madre.\n",
    "#   randSon     - asigna de forma random las reglas extras a los hijos.\n",
    "#\n",
    "#Resto:\n",
    "#   random      - se seleccionan los 'fill' de manera aleatoria.\n",
    "#   fitness     - se seleccionan los 'fill' en funcion del fitness\n",
    "#\n",
    "#CondicionTerminacion:\n",
    "#   numero      - a partir de este porcentaje de acierto se termina el entrenamiento\n",
    "#   no          - el entreamiento finaliza cuando se han ejecutado todas las generaciones\n",
    "###################################################################################\n",
    "#parámetros de ejecución de las pruebas\n",
    "mode = {'Prints':'default', 'Diversidad':'default', 'ReglasExtra':'randSons', 'Resto':'random', 'CondicionTerminacion':'100'}"
   ]
  },
  {
   "cell_type": "code",
   "execution_count": null,
   "metadata": {
    "collapsed": true
   },
   "outputs": [],
   "source": [
    "numParticiones = 3\n",
    "porcentajeParticiones = 80\n",
    "estrategiaSimple=ValidacionSimple(numParticiones, porcentajeParticiones)\n",
    "\n",
    "#Tweaks\n",
    "laplace = False\n",
    "normalizar = True\n",
    "separador = False"
   ]
  },
  {
   "cell_type": "markdown",
   "metadata": {},
   "source": [
    "#### A. tic-tac-toe"
   ]
  },
  {
   "cell_type": "code",
   "execution_count": null,
   "metadata": {
    "collapsed": true
   },
   "outputs": [],
   "source": [
    "#======================================tic-tac-toe.data=====================================#\n",
    "data_file = 'tic-tac-toe.data'\n",
    "about = \"clasificador Algoritmo Genetico\"\n",
    "clf_id = \"GenAlg\"\n",
    "\n",
    "#Algoritmo Genetico\n",
    "tamPoblacion = 10 #Tamaño de la poblacion\n",
    "numGeneraciones = 100 #Numero de generaciones (Condicion de terminacion)\n",
    "maxReglas = 5 #Numero máximo de reglas por individuo\n",
    "clasificador = AlgoritmoGenetico(tamPoblacion, numGeneraciones, maxReglas, mode)\n",
    "Main.run(data_file,clasificador,about,estrategiaSimple,numParticiones,True,laplace,normalizar,separador)\n",
    "\n",
    "\n",
    "#Algoritmo Genetico\n",
    "tamPoblacion = 10 #Tamaño de la poblacion\n",
    "numGeneraciones = 500 #Numero de generaciones (Condicion de terminacion)\n",
    "maxReglas = 5 #Numero máximo de reglas por individuo\n",
    "clasificador = AlgoritmoGenetico(tamPoblacion, numGeneraciones, maxReglas, mode)\n",
    "Main.run(data_file,clasificador,about,estrategiaSimple,numParticiones,True,laplace,normalizar,separador)\n",
    "\n",
    "\n",
    "#Algoritmo Genetico\n",
    "tamPoblacion = 200 #Tamaño de la poblacion\n",
    "numGeneraciones = 100 #Numero de generaciones (Condicion de terminacion)\n",
    "maxReglas = 5 #Numero máximo de reglas por individuo\n",
    "clasificador = AlgoritmoGenetico(tamPoblacion, numGeneraciones, maxReglas, mode)\n",
    "Main.run(data_file,clasificador,about,estrategiaSimple,numParticiones,True,laplace,normalizar,separador)\n",
    "\n",
    "\n",
    "#Algoritmo Genetico\n",
    "tamPoblacion = 200 #Tamaño de la poblacion\n",
    "numGeneraciones = 500 #Numero de generaciones (Condicion de terminacion)\n",
    "maxReglas = 5 #Numero máximo de reglas por individuo\n",
    "clasificador = AlgoritmoGenetico(tamPoblacion, numGeneraciones, maxReglas, mode)\n",
    "Main.run(data_file,clasificador,about,estrategiaSimple,numParticiones,True,laplace,normalizar,separador)\n",
    "\n",
    "\n",
    "#Algoritmo Genetico\n",
    "tamPoblacion = 500 #Tamaño de la poblacion\n",
    "numGeneraciones = 100 #Numero de generaciones (Condicion de terminacion)\n",
    "maxReglas = 5 #Numero máximo de reglas por individuo\n",
    "clasificador = AlgoritmoGenetico(tamPoblacion, numGeneraciones, maxReglas, mode)\n",
    "Main.run(data_file,clasificador,about,estrategiaSimple,numParticiones,True,laplace,normalizar,separador)\n",
    "\n",
    "#Algoritmo Genetico\n",
    "tamPoblacion = 500 #Tamaño de la poblacion\n",
    "numGeneraciones = 500 #Numero de generaciones (Condicion de terminacion)\n",
    "maxReglas = 5 #Numero máximo de reglas por individuo\n",
    "clasificador = AlgoritmoGenetico(tamPoblacion, numGeneraciones, maxReglas, mode)\n",
    "Main.run(data_file,clasificador,about,estrategiaSimple,numParticiones,True,laplace,normalizar,separador)"
   ]
  },
  {
   "cell_type": "markdown",
   "metadata": {},
   "source": [
    "#### B. example2"
   ]
  },
  {
   "cell_type": "code",
   "execution_count": null,
   "metadata": {
    "collapsed": true
   },
   "outputs": [],
   "source": [
    "#======================================example2.data=====================================#\n",
    "data_file = 'example2.data'\n",
    "about = \"clasificador Algoritmo Genetico\"\n",
    "\n",
    "#Algoritmo Genetico\n",
    "tamPoblacion = 10 #Tamaño de la poblacion\n",
    "numGeneraciones = 100 #Numero de generaciones (Condicion de terminacion)\n",
    "maxReglas = 5 #Numero máximo de reglas por individuo\n",
    "clasificador = AlgoritmoGenetico(tamPoblacion, numGeneraciones, maxReglas, mode)\n",
    "Main.run(data_file,clasificador,about,estrategiaSimple,numParticiones,True,laplace,normalizar,separador)\n",
    "\n",
    "\n",
    "#Algoritmo Genetico\n",
    "tamPoblacion = 10 #Tamaño de la poblacion\n",
    "numGeneraciones = 500 #Numero de generaciones (Condicion de terminacion)\n",
    "maxReglas = 5 #Numero máximo de reglas por individuo\n",
    "clasificador = AlgoritmoGenetico(tamPoblacion, numGeneraciones, maxReglas, mode)\n",
    "Main.run(data_file,clasificador,about,estrategiaSimple,numParticiones,True,laplace,normalizar,separador)\n",
    "\n",
    "\n",
    "#Algoritmo Genetico\n",
    "tamPoblacion = 200 #Tamaño de la poblacion\n",
    "numGeneraciones = 100 #Numero de generaciones (Condicion de terminacion)\n",
    "maxReglas = 5 #Numero máximo de reglas por individuo\n",
    "clasificador = AlgoritmoGenetico(tamPoblacion, numGeneraciones, maxReglas, mode)\n",
    "Main.run(data_file,clasificador,about,estrategiaSimple,numParticiones,True,laplace,normalizar,separador)\n",
    "\n",
    "\n",
    "#Algoritmo Genetico\n",
    "tamPoblacion = 200 #Tamaño de la poblacion\n",
    "numGeneraciones = 500 #Numero de generaciones (Condicion de terminacion)\n",
    "maxReglas = 5 #Numero máximo de reglas por individuo\n",
    "clasificador = AlgoritmoGenetico(tamPoblacion, numGeneraciones, maxReglas, mode)\n",
    "Main.run(data_file,clasificador,about,estrategiaSimple,numParticiones,True,laplace,normalizar,separador)\n",
    "\n",
    "#Algoritmo Genetico\n",
    "tamPoblacion = 500 #Tamaño de la poblacion\n",
    "numGeneraciones = 100 #Numero de generaciones (Condicion de terminacion)\n",
    "maxReglas = 5 #Numero máximo de reglas por individuo\n",
    "clasificador = AlgoritmoGenetico(tamPoblacion, numGeneraciones, maxReglas, mode)\n",
    "Main.run(data_file,clasificador,about,estrategiaSimple,numParticiones,True,laplace,normalizar,separador)\n",
    "\n",
    "#Algoritmo Genetico\n",
    "tamPoblacion = 500 #Tamaño de la poblacion\n",
    "numGeneraciones = 500 #Numero de generaciones (Condicion de terminacion)\n",
    "maxReglas = 5 #Numero máximo de reglas por individuo\n",
    "clasificador = AlgoritmoGenetico(tamPoblacion, numGeneraciones, maxReglas, mode)\n",
    "Main.run(data_file,clasificador,about,estrategiaSimple,numParticiones,True,laplace,normalizar,separador)"
   ]
  },
  {
   "cell_type": "markdown",
   "metadata": {},
   "source": [
    "#### C. ejemplo5"
   ]
  },
  {
   "cell_type": "code",
   "execution_count": null,
   "metadata": {
    "collapsed": true
   },
   "outputs": [],
   "source": [
    "#======================================ejemplo5.data=====================================#\n",
    "data_file = 'ejemplo5.data'\n",
    "about = \"clasificador Algoritmo Genetico\"\n",
    "\n",
    "\n",
    "#Algoritmo Genetico\n",
    "tamPoblacion = 10 #Tamaño de la poblacion\n",
    "numGeneraciones = 100 #Numero de generaciones (Condicion de terminacion)\n",
    "maxReglas = 5 #Numero máximo de reglas por individuo\n",
    "clasificador = AlgoritmoGenetico(tamPoblacion, numGeneraciones, maxReglas, mode)\n",
    "Main.run(data_file,clasificador,about,estrategiaSimple,numParticiones,True,laplace,normalizar,separador)\n",
    "\n",
    "\n",
    "#Algoritmo Genetico\n",
    "tamPoblacion = 10 #Tamaño de la poblacion\n",
    "numGeneraciones = 500 #Numero de generaciones (Condicion de terminacion)\n",
    "maxReglas = 5 #Numero máximo de reglas por individuo\n",
    "clasificador = AlgoritmoGenetico(tamPoblacion, numGeneraciones, maxReglas, mode)\n",
    "Main.run(data_file,clasificador,about,estrategiaSimple,numParticiones,True,laplace,normalizar,separador)\n",
    "\n",
    "\n",
    "#Algoritmo Genetico\n",
    "tamPoblacion = 200 #Tamaño de la poblacion\n",
    "numGeneraciones = 100 #Numero de generaciones (Condicion de terminacion)\n",
    "maxReglas = 5 #Numero máximo de reglas por individuo\n",
    "clasificador = AlgoritmoGenetico(tamPoblacion, numGeneraciones, maxReglas, mode)\n",
    "Main.run(data_file,clasificador,about,estrategiaSimple,numParticiones,True,laplace,normalizar,separador)\n",
    "\n",
    "\n",
    "#Algoritmo Genetico\n",
    "tamPoblacion = 200 #Tamaño de la poblacion\n",
    "numGeneraciones = 500 #Numero de generaciones (Condicion de terminacion)\n",
    "maxReglas = 5 #Numero máximo de reglas por individuo\n",
    "clasificador = AlgoritmoGenetico(tamPoblacion, numGeneraciones, maxReglas, mode)\n",
    "Main.run(data_file,clasificador,about,estrategiaSimple,numParticiones,True,laplace,normalizar,separador)\n",
    "\n",
    "#Algoritmo Genetico\n",
    "tamPoblacion = 500 #Tamaño de la poblacion\n",
    "numGeneraciones = 100 #Numero de generaciones (Condicion de terminacion)\n",
    "maxReglas = 5 #Numero máximo de reglas por individuo\n",
    "clasificador = AlgoritmoGenetico(tamPoblacion, numGeneraciones, maxReglas, mode)\n",
    "Main.run(data_file,clasificador,about,estrategiaSimple,numParticiones,True,laplace,normalizar,separador)\n",
    "\n",
    "#Algoritmo Genetico\n",
    "tamPoblacion = 500 #Tamaño de la poblacion\n",
    "numGeneraciones = 500 #Numero de generaciones (Condicion de terminacion)\n",
    "maxReglas = 5 #Numero máximo de reglas por individuo\n",
    "clasificador = AlgoritmoGenetico(tamPoblacion, numGeneraciones, maxReglas, mode)\n",
    "Main.run(data_file,clasificador,about,estrategiaSimple,numParticiones,True,laplace,normalizar,separador)"
   ]
  },
  {
   "cell_type": "markdown",
   "metadata": {},
   "source": [
    "#### D. ejemplo6"
   ]
  },
  {
   "cell_type": "code",
   "execution_count": null,
   "metadata": {
    "collapsed": true
   },
   "outputs": [],
   "source": [
    "#======================================ejemplo6.data=====================================#\n",
    "data_file = 'ejemplo6.data'\n",
    "about = \"clasificador Algoritmo Genetico\"\n",
    "\n",
    "#Algoritmo Genetico\n",
    "tamPoblacion = 10 #Tamaño de la poblacion\n",
    "numGeneraciones = 100 #Numero de generaciones (Condicion de terminacion)\n",
    "maxReglas = 5 #Numero máximo de reglas por individuo\n",
    "clasificador = AlgoritmoGenetico(tamPoblacion, numGeneraciones, maxReglas, mode)\n",
    "Main.run(data_file,clasificador,about,estrategiaSimple,numParticiones,True,laplace,normalizar,separador)\n",
    "\n",
    "\n",
    "#Algoritmo Genetico\n",
    "tamPoblacion = 10 #Tamaño de la poblacion\n",
    "numGeneraciones = 500 #Numero de generaciones (Condicion de terminacion)\n",
    "maxReglas = 5 #Numero máximo de reglas por individuo\n",
    "clasificador = AlgoritmoGenetico(tamPoblacion, numGeneraciones, maxReglas, mode)\n",
    "Main.run(data_file,clasificador,about,estrategiaSimple,numParticiones,True,laplace,normalizar,separador)\n",
    "\n",
    "\n",
    "#Algoritmo Genetico\n",
    "tamPoblacion = 200 #Tamaño de la poblacion\n",
    "numGeneraciones = 100 #Numero de generaciones (Condicion de terminacion)\n",
    "maxReglas = 5 #Numero máximo de reglas por individuo\n",
    "clasificador = AlgoritmoGenetico(tamPoblacion, numGeneraciones, maxReglas, mode)\n",
    "Main.run(data_file,clasificador,about,estrategiaSimple,numParticiones,True,laplace,normalizar,separador)\n",
    "\n",
    "\n",
    "#Algoritmo Genetico\n",
    "tamPoblacion = 200 #Tamaño de la poblacion\n",
    "numGeneraciones = 500 #Numero de generaciones (Condicion de terminacion)\n",
    "maxReglas = 5 #Numero máximo de reglas por individuo\n",
    "clasificador = AlgoritmoGenetico(tamPoblacion, numGeneraciones, maxReglas, mode)\n",
    "Main.run(data_file,clasificador,about,estrategiaSimple,numParticiones,True,laplace,normalizar,separador)\n",
    "\n",
    "#Algoritmo Genetico\n",
    "tamPoblacion = 500 #Tamaño de la poblacion\n",
    "numGeneraciones = 100 #Numero de generaciones (Condicion de terminacion)\n",
    "maxReglas = 5 #Numero máximo de reglas por individuo\n",
    "clasificador = AlgoritmoGenetico(tamPoblacion, numGeneraciones, maxReglas, mode)\n",
    "Main.run(data_file,clasificador,about,estrategiaSimple,numParticiones,True,laplace,normalizar,separador)\n",
    "\n",
    "#Algoritmo Genetico\n",
    "tamPoblacion = 500 #Tamaño de la poblacion\n",
    "numGeneraciones = 500 #Numero de generaciones (Condicion de terminacion)\n",
    "maxReglas = 5 #Numero máximo de reglas por individuo\n",
    "clasificador = AlgoritmoGenetico(tamPoblacion, numGeneraciones, maxReglas, mode)\n",
    "Main.run(data_file,clasificador,about,estrategiaSimple,numParticiones,True,laplace,normalizar,separador)"
   ]
  },
  {
   "cell_type": "markdown",
   "metadata": {},
   "source": [
    "#### E. titanic"
   ]
  },
  {
   "cell_type": "code",
   "execution_count": null,
   "metadata": {
    "collapsed": true
   },
   "outputs": [],
   "source": [
    "#======================================titanic.data=====================================#\n",
    "data_file = 'titanic.data'\n",
    "about = \"clasificador Algoritmo Genetico\"\n",
    "\n",
    "#Algoritmo Genetico\n",
    "tamPoblacion = 10 #Tamaño de la poblacion\n",
    "numGeneraciones = 100 #Numero de generaciones (Condicion de terminacion)\n",
    "maxReglas = 5 #Numero máximo de reglas por individuo\n",
    "clasificador = AlgoritmoGenetico(tamPoblacion, numGeneraciones, maxReglas, mode)\n",
    "Main.run(data_file,clasificador,about,estrategiaSimple,numParticiones,True,laplace,normalizar,separador)\n",
    "\n",
    "\n",
    "#Algoritmo Genetico\n",
    "tamPoblacion = 10 #Tamaño de la poblacion\n",
    "numGeneraciones = 500 #Numero de generaciones (Condicion de terminacion)\n",
    "maxReglas = 5 #Numero máximo de reglas por individuo\n",
    "clasificador = AlgoritmoGenetico(tamPoblacion, numGeneraciones, maxReglas, mode)\n",
    "Main.run(data_file,clasificador,about,estrategiaSimple,numParticiones,True,laplace,normalizar,separador)\n",
    "\n",
    "\n",
    "#Algoritmo Genetico\n",
    "tamPoblacion = 200 #Tamaño de la poblacion\n",
    "numGeneraciones = 100 #Numero de generaciones (Condicion de terminacion)\n",
    "maxReglas = 5 #Numero máximo de reglas por individuo\n",
    "clasificador = AlgoritmoGenetico(tamPoblacion, numGeneraciones, maxReglas, mode)\n",
    "Main.run(data_file,clasificador,about,estrategiaSimple,numParticiones,True,laplace,normalizar,separador)\n",
    "\n",
    "\n",
    "#Algoritmo Genetico\n",
    "tamPoblacion = 200 #Tamaño de la poblacion\n",
    "numGeneraciones = 500 #Numero de generaciones (Condicion de terminacion)\n",
    "maxReglas = 5 #Numero máximo de reglas por individuo\n",
    "clasificador = AlgoritmoGenetico(tamPoblacion, numGeneraciones, maxReglas, mode)\n",
    "Main.run(data_file,clasificador,about,estrategiaSimple,numParticiones,True,laplace,normalizar,separador)\n",
    "\n",
    "#Algoritmo Genetico\n",
    "tamPoblacion = 500 #Tamaño de la poblacion\n",
    "numGeneraciones = 100 #Numero de generaciones (Condicion de terminacion)\n",
    "maxReglas = 5 #Numero máximo de reglas por individuo\n",
    "clasificador = AlgoritmoGenetico(tamPoblacion, numGeneraciones, maxReglas, mode)\n",
    "Main.run(data_file,clasificador,about,estrategiaSimple,numParticiones,True,laplace,normalizar,separador)\n",
    "\n",
    "tamPoblacion = 500 #Tamaño de la poblacion\n",
    "numGeneraciones = 100 #Numero de generaciones (Condicion de terminacion)\n",
    "maxReglas = 5 #Numero máximo de reglas por individuo\n",
    "clasificador = AlgoritmoGenetico(tamPoblacion, numGeneraciones, maxReglas, mode)\n",
    "Main.run(data_file,clasificador,about,estrategiaSimple,numParticiones,True,laplace,normalizar,separador)"
   ]
  },
  {
   "cell_type": "markdown",
   "metadata": {},
   "source": [
    "------------------------------------"
   ]
  },
  {
   "cell_type": "markdown",
   "metadata": {},
   "source": [
    "### Apartado 3\n",
    "Análisis de resultados *(importancia del número de reglas, tamaño\n",
    "de la población, generaciones, tasas de cruce y mutación. En\n",
    "aquellos casos donde sea posible, se deberá de dar una\n",
    "interpretación al conjunto de reglas obtenido.)*"
   ]
  },
  {
   "cell_type": "markdown",
   "metadata": {},
   "source": []
  },
  {
   "cell_type": "markdown",
   "metadata": {},
   "source": [
    "------------------------------------"
   ]
  },
  {
   "cell_type": "markdown",
   "metadata": {},
   "source": [
    "### Apartado 4\n",
    "Gráficas de la evolución de la fase de entrenamiento para:\n",
    "- Del fitness del mejor individuo de la población\n",
    "- Del fitness medio de la población"
   ]
  },
  {
   "cell_type": "code",
   "execution_count": null,
   "metadata": {
    "collapsed": true
   },
   "outputs": [],
   "source": []
  },
  {
   "cell_type": "code",
   "execution_count": null,
   "metadata": {
    "collapsed": true
   },
   "outputs": [],
   "source": []
  }
 ],
 "metadata": {
  "anaconda-cloud": {},
  "kernelspec": {
   "display_name": "Python [default]",
   "language": "python",
   "name": "python2"
  },
  "language_info": {
   "codemirror_mode": {
    "name": "ipython",
    "version": 2
   },
   "file_extension": ".py",
   "mimetype": "text/x-python",
   "name": "python",
   "nbconvert_exporter": "python",
   "pygments_lexer": "ipython2",
   "version": "2.7.12"
  }
 },
 "nbformat": 4,
 "nbformat_minor": 0
}
