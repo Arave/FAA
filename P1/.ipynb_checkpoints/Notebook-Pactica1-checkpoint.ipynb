{
 "cells": [
  {
   "cell_type": "markdown",
   "metadata": {},
   "source": [
    "# Práctica 1. Ipyhton notebook con pruebas y resultados\n",
    "\n",
    "<br>**Asignatura:** Prácticas de Fundamentos de Aprendizaje Automático</br>\n",
    "<br>**Autores:** Albert Soler y Alfonso Sebares</br>\n",
    "\n",
    "### Qué hay en este notebook:\n",
    "\n",
    "De manera estructurada por los apartados especificados en el enunciado, se incluyen las instrucciones necesarias para realizar las pruebas descritas en el apartado 3 del enunciado, así como una breve descripción y análisis de dichas pruebas.\n",
    "\n",
    "### Índice:\n",
    "1. Apartado 1 \n",
    "    1. tic-tac-toe (A priori)\n",
    "    2. tic-tac-toe (NB)\n",
    "    3. tic-tac-toe (NB, Laplace)\n",
    "    4. wine (A priori)\n",
    "    5. wine (NB)\n",
    "    6. wine (NB, Laplace)\n",
    "    7. credit approval (A priori)\n",
    "    8. credit approval (NB)\n",
    "    9. credit approval (NB, Laplace)\n",
    "    10. credit approval clean (A priori) \n",
    "    11. credit approval clean (NB)\n",
    "    12. credit approval clean (NB, Laplace)\n",
    "    13. digits (A priori)\n",
    "    14. digits (NB)\n",
    "    15. digits (NB, Laplace)\n",
    "2. Apartado 2\n",
    "3. Apartado 3\n",
    "4. Apartado 4\n",
    "    1. Probabilidades, media y std para credit approval \n",
    "    2. Probabilidades, media y std para credit approval (clean)\n",
    "------------------------------------"
   ]
  },
  {
   "cell_type": "markdown",
   "metadata": {},
   "source": [
    "Primero preparamos el notebook para poder utilizar las funciones de la estructura de clases así como acceder a las variables de clase:"
   ]
  },
  {
   "cell_type": "code",
   "execution_count": 1,
   "metadata": {
    "collapsed": true
   },
   "outputs": [],
   "source": [
    "import os\n",
    "import sys\n",
    "module_path = os.path.abspath(os.path.join('..'))\n",
    "if module_path not in sys.path:\n",
    "    sys.path.append(module_path)"
   ]
  },
  {
   "cell_type": "markdown",
   "metadata": {},
   "source": [
    "### Apartado 1\n",
    "A continuación tenemos por apartados los resultados de la ejecución para los distintos conjuntos de datos analizados. Las pruebas se realizan con validación cruzada, k=10.\n",
    "#### A. tic-tac-toe (A priori)"
   ]
  },
  {
   "cell_type": "code",
   "execution_count": 2,
   "metadata": {
    "collapsed": false
   },
   "outputs": [
    {
     "name": "stdout",
     "output_type": "stream",
     "text": [
      "\n",
      "Fichero de datos: tic-tac-toe.data\n",
      "Estrategia: validacion cruzada, numParticiones: 10\n",
      "Clasificador: clasificador a Priori\n",
      "Ejecucción: \n",
      "________________________________________________________________\n",
      "Datos de train y test para [ 10 ] grupos:\n",
      "Correción de Laplace: False\n",
      "=================RESULTADO====================\n",
      "Array de % de errores obtenidos: [31.250 34.375 35.417 30.208 35.417 35.417 31.250 36.458 40.000 36.842] \n",
      "Media de errores total: 34.663377193 %\n",
      "Mediana de errores total: 35.4166666667 %\n",
      "Desviación típica: 2.85277876022 %\n"
     ]
    }
   ],
   "source": [
    "from Datos import Datos\n",
    "from EstrategiaParticionado import ValidacionCruzada\n",
    "from Clasificador import ClasificadorNaiveBayes\n",
    "from Clasificador import ClasificadorAPriori\n",
    "\n",
    "print \"\\nFichero de datos: tic-tac-toe.data\"\n",
    "dataset=Datos('./ConjuntosDatos/tic-tac-toe.data',True)\n",
    "print \"Estrategia: validacion cruzada, numParticiones: 10\"\n",
    "estrategia=ValidacionCruzada(10)\n",
    "print \"Clasificador: clasificador a Priori\"\n",
    "clasificador = ClasificadorAPriori()\n",
    "print \"Ejecucción: \"\n",
    "laplace = False\n",
    "print \"________________________________________________________________\"\n",
    "errores=clasificador.validacion(estrategia,dataset,clasificador,laplace)"
   ]
  },
  {
   "cell_type": "markdown",
   "metadata": {},
   "source": [
    "#### B. tic-tac-toe (NB)"
   ]
  },
  {
   "cell_type": "code",
   "execution_count": 3,
   "metadata": {
    "collapsed": false
   },
   "outputs": [
    {
     "name": "stdout",
     "output_type": "stream",
     "text": [
      "Apartado 1 de la memoria\n",
      "\n",
      "Fichero de datos: tic-tac-toe.data\n",
      "Estrategia: validacion cruzada, numParticiones: 10\n",
      "Clasificador: clasificador Naive Bayes sin correción de Laplace\n",
      "Ejecucción: \n",
      "________________________________________________________________\n",
      "Datos de train y test para [ 10 ] grupos:\n",
      "Correción de Laplace: False\n",
      "=================RESULTADO====================\n",
      "Array de % de errores obtenidos: [36.458 32.292 32.292 36.458 40.625 33.333 31.250 35.417 28.421 40.000] \n",
      "Media de errores total: 34.6546052632 %\n",
      "Mediana de errores total: 34.375 %\n",
      "Desviación típica: 3.66970977373 %\n"
     ]
    }
   ],
   "source": [
    "from Datos import Datos\n",
    "from EstrategiaParticionado import ValidacionCruzada\n",
    "from Clasificador import ClasificadorNaiveBayes\n",
    "\n",
    "\n",
    "print \"Apartado 1 de la memoria\"\n",
    "print \"\\nFichero de datos: tic-tac-toe.data\"\n",
    "dataset=Datos('./ConjuntosDatos/tic-tac-toe.data',True)\n",
    "print \"Estrategia: validacion cruzada, numParticiones: 10\"\n",
    "estrategia=ValidacionCruzada(10)\n",
    "print \"Clasificador: clasificador Naive Bayes sin correción de Laplace\"\n",
    "clasificador = ClasificadorNaiveBayes()\n",
    "print \"Ejecucción: \"\n",
    "print \"________________________________________________________________\"\n",
    "laplace = False\n",
    "errores=clasificador.validacion(estrategia,dataset,clasificador,laplace)"
   ]
  },
  {
   "cell_type": "markdown",
   "metadata": {},
   "source": [
    "#### C. tic-tac-toe (NB, Laplace)"
   ]
  },
  {
   "cell_type": "code",
   "execution_count": 4,
   "metadata": {
    "collapsed": false
   },
   "outputs": [
    {
     "name": "stdout",
     "output_type": "stream",
     "text": [
      "\n",
      "Fichero de datos: tic-tac-toe.data\n",
      "Estrategia: validacion cruzada, numParticiones: 10\n",
      "Clasificador: clasificador Naive Bayes con correción de Laplace\n",
      "Ejecucción: \n",
      "________________________________________________________________\n",
      "Datos de train y test para [ 10 ] grupos:\n",
      "Correción de Laplace: True\n",
      "=================RESULTADO====================\n",
      "Array de % de errores obtenidos: [43.750 33.333 40.625 29.167 39.583 30.208 23.958 35.417 29.474 41.053] \n",
      "Media de errores total: 34.6567982456 %\n",
      "Mediana de errores total: 34.375 %\n",
      "Desviación típica: 6.14055656375 %\n"
     ]
    }
   ],
   "source": [
    "print \"\\nFichero de datos: tic-tac-toe.data\"\n",
    "dataset=Datos('./ConjuntosDatos/tic-tac-toe.data',True)\n",
    "print \"Estrategia: validacion cruzada, numParticiones: 10\"\n",
    "estrategia=ValidacionCruzada(10)\n",
    "print \"Clasificador: clasificador Naive Bayes con correción de Laplace\"\n",
    "clasificador = ClasificadorNaiveBayes()\n",
    "print \"Ejecucción: \"\n",
    "print \"________________________________________________________________\"\n",
    "laplace = True\n",
    "errores=clasificador.validacion(estrategia,dataset,clasificador,laplace)\n",
    "#print \"\\n\""
   ]
  },
  {
   "cell_type": "markdown",
   "metadata": {},
   "source": [
    "#### D. wine (A priori)"
   ]
  },
  {
   "cell_type": "code",
   "execution_count": 5,
   "metadata": {
    "collapsed": false
   },
   "outputs": [
    {
     "name": "stdout",
     "output_type": "stream",
     "text": [
      "\n",
      "Fichero de datos: wine_proc.data\n",
      "Estrategia: validacion cruzada, numParticiones: 10\n",
      "Clasificador: clasificador a Priori\n",
      "Ejecucción: \n",
      "________________________________________________________________\n",
      "Datos de train y test para [ 10 ] grupos:\n",
      "Correción de Laplace: False\n",
      "=================RESULTADO====================\n",
      "Array de % de errores obtenidos: [38.889 61.111 72.222 27.778 55.556 66.667 83.333 77.778 52.941 64.706] \n",
      "Media de errores total: 60.0980392157 %\n",
      "Mediana de errores total: 62.908496732 %\n",
      "Desviación típica: 16.2207751378 %\n"
     ]
    }
   ],
   "source": [
    "print \"\\nFichero de datos: wine_proc.data\"\n",
    "dataset=Datos('./ConjuntosDatos/wine_proc.data',True)\n",
    "print \"Estrategia: validacion cruzada, numParticiones: 10\"\n",
    "estrategia=ValidacionCruzada(10)\n",
    "print \"Clasificador: clasificador a Priori\"\n",
    "clasificador = ClasificadorAPriori()\n",
    "print \"Ejecucción: \"\n",
    "print \"________________________________________________________________\"\n",
    "laplace = False\n",
    "errores=clasificador.validacion(estrategia,dataset,clasificador,laplace)"
   ]
  },
  {
   "cell_type": "markdown",
   "metadata": {},
   "source": [
    "#### E. wine (NB)"
   ]
  },
  {
   "cell_type": "code",
   "execution_count": 6,
   "metadata": {
    "collapsed": false
   },
   "outputs": [
    {
     "name": "stdout",
     "output_type": "stream",
     "text": [
      "\n",
      "Fichero de datos: wine_proc.data\n",
      "Estrategia: validacion cruzada, numParticiones: 10\n",
      "Clasificador: clasificador Naive Bayes sin correción de Laplace\n",
      "Ejecucción: \n",
      "________________________________________________________________\n",
      "Datos de train y test para [ 10 ] grupos:\n",
      "Correción de Laplace: False\n",
      "=================RESULTADO====================\n",
      "Array de % de errores obtenidos: [50.000 61.111 66.667 77.778 27.778 66.667 66.667 61.111 64.706 70.588] \n",
      "Media de errores total: 61.3071895425 %\n",
      "Mediana de errores total: 65.6862745098 %\n",
      "Desviación típica: 13.0663386882 %\n"
     ]
    }
   ],
   "source": [
    "print \"\\nFichero de datos: wine_proc.data\"\n",
    "dataset=Datos('./ConjuntosDatos/wine_proc.data',True)\n",
    "print \"Estrategia: validacion cruzada, numParticiones: 10\"\n",
    "estrategia=ValidacionCruzada(10)\n",
    "print \"Clasificador: clasificador Naive Bayes sin correción de Laplace\"\n",
    "clasificador = ClasificadorNaiveBayes()\n",
    "print \"Ejecucción: \"\n",
    "print \"________________________________________________________________\"\n",
    "laplace = False\n",
    "errores=clasificador.validacion(estrategia,dataset,clasificador,laplace)"
   ]
  },
  {
   "cell_type": "markdown",
   "metadata": {},
   "source": [
    "#### F. wine (NB, Laplace)"
   ]
  },
  {
   "cell_type": "code",
   "execution_count": 7,
   "metadata": {
    "collapsed": false
   },
   "outputs": [
    {
     "name": "stdout",
     "output_type": "stream",
     "text": [
      "\n",
      "Fichero de datos: wine_proc.data\n",
      "Estrategia: validacion cruzada, numParticiones: 10\n",
      "Clasificador: clasificador Naive Bayes con correción de Laplace\n",
      "Ejecucción: \n",
      "________________________________________________________________\n",
      "Datos de train y test para [ 10 ] grupos:\n",
      "Correción de Laplace: True\n",
      "=================RESULTADO====================\n",
      "Array de % de errores obtenidos: [72.222 72.222 50.000 61.111 55.556 55.556 66.667 77.778 52.941 41.176] \n",
      "Media de errores total: 60.522875817 %\n",
      "Mediana de errores total: 58.3333333333 %\n",
      "Desviación típica: 10.9609226707 %\n"
     ]
    }
   ],
   "source": [
    "print \"\\nFichero de datos: wine_proc.data\"\n",
    "dataset=Datos('./ConjuntosDatos/wine_proc.data',True)\n",
    "print \"Estrategia: validacion cruzada, numParticiones: 10\"\n",
    "estrategia=ValidacionCruzada(10)\n",
    "print \"Clasificador: clasificador Naive Bayes con correción de Laplace\"\n",
    "clasificador = ClasificadorNaiveBayes()\n",
    "print \"Ejecucción: \"\n",
    "print \"________________________________________________________________\"\n",
    "laplace = True\n",
    "errores=clasificador.validacion(estrategia,dataset,clasificador,laplace)"
   ]
  },
  {
   "cell_type": "markdown",
   "metadata": {},
   "source": [
    "#### G. credit approval (A priori)"
   ]
  },
  {
   "cell_type": "code",
   "execution_count": 8,
   "metadata": {
    "collapsed": false
   },
   "outputs": [
    {
     "name": "stdout",
     "output_type": "stream",
     "text": [
      "\n",
      "Fichero de datos: crx.data\n",
      "Estrategia: validacion cruzada, numParticiones: 10\n",
      "Clasificador: clasificador a Priori\n",
      "Ejecucción: \n",
      "________________________________________________________________\n",
      "Datos de train y test para [ 10 ] grupos:\n",
      "Correción de Laplace: False\n",
      "=================RESULTADO====================\n",
      "Array de % de errores obtenidos: [44.928 47.826 31.884 34.783 47.826 56.522 50.725 52.174 40.580 37.681] \n",
      "Media de errores total: 44.4927536232 %\n",
      "Mediana de errores total: 46.3768115942 %\n",
      "Desviación típica: 7.61524907561 %\n"
     ]
    }
   ],
   "source": [
    "print \"\\nFichero de datos: crx.data\"\n",
    "dataset=Datos('./ConjuntosDatos/crx.data',True)\n",
    "print \"Estrategia: validacion cruzada, numParticiones: 10\"\n",
    "estrategia=ValidacionCruzada(10)\n",
    "print \"Clasificador: clasificador a Priori\"\n",
    "clasificador = ClasificadorAPriori()\n",
    "print \"Ejecucción: \"\n",
    "print \"________________________________________________________________\"\n",
    "laplace = False\n",
    "errores=clasificador.validacion(estrategia,dataset,clasificador,laplace)"
   ]
  },
  {
   "cell_type": "markdown",
   "metadata": {},
   "source": [
    "#### H. credit approval (NB)"
   ]
  },
  {
   "cell_type": "code",
   "execution_count": 9,
   "metadata": {
    "collapsed": false
   },
   "outputs": [
    {
     "name": "stdout",
     "output_type": "stream",
     "text": [
      "\n",
      "Fichero de datos: crx.data\n",
      "Estrategia: validacion cruzada, numParticiones: 10\n",
      "Clasificador: clasificador Naive Bayes sin correción de Laplace\n",
      "Ejecucción: \n",
      "________________________________________________________________\n",
      "Datos de train y test para [ 10 ] grupos:\n",
      "Correción de Laplace: False\n",
      "=================RESULTADO====================\n",
      "Array de % de errores obtenidos: [49.275 55.072 66.667 53.623 57.971 42.029 56.522 60.870 49.275 49.275] \n",
      "Media de errores total: 54.0579710145 %\n",
      "Mediana de errores total: 54.347826087 %\n",
      "Desviación típica: 6.64299515152 %\n"
     ]
    }
   ],
   "source": [
    "print \"\\nFichero de datos: crx.data\"\n",
    "dataset=Datos('./ConjuntosDatos/crx.data',True)\n",
    "print \"Estrategia: validacion cruzada, numParticiones: 10\"\n",
    "estrategia=ValidacionCruzada(10)\n",
    "print \"Clasificador: clasificador Naive Bayes sin correción de Laplace\"\n",
    "clasificador = ClasificadorNaiveBayes()\n",
    "print \"Ejecucción: \"\n",
    "print \"________________________________________________________________\"\n",
    "laplace = False\n",
    "errores=clasificador.validacion(estrategia,dataset,clasificador,laplace)"
   ]
  },
  {
   "cell_type": "markdown",
   "metadata": {},
   "source": [
    "#### I. credit approval (NB, Laplace)"
   ]
  },
  {
   "cell_type": "code",
   "execution_count": 10,
   "metadata": {
    "collapsed": false
   },
   "outputs": [
    {
     "name": "stdout",
     "output_type": "stream",
     "text": [
      "\n",
      "Fichero de datos: crx.data\n",
      "Estrategia: validacion cruzada, numParticiones: 10\n",
      "Clasificador: clasificador Naive Bayes con correción de Laplace\n",
      "Ejecucción: \n",
      "________________________________________________________________\n",
      "Datos de train y test para [ 10 ] grupos:\n",
      "Correción de Laplace: True\n",
      "=================RESULTADO====================\n",
      "Array de % de errores obtenidos: [50.725 55.072 50.725 57.971 59.420 53.623 60.870 50.725 47.826 55.072] \n",
      "Media de errores total: 54.2028985507 %\n",
      "Mediana de errores total: 54.347826087 %\n",
      "Desviación típica: 4.05797101449 %\n"
     ]
    }
   ],
   "source": [
    "print \"\\nFichero de datos: crx.data\"\n",
    "dataset=Datos('./ConjuntosDatos/crx.data',True)\n",
    "print \"Estrategia: validacion cruzada, numParticiones: 10\"\n",
    "estrategia=ValidacionCruzada(10)\n",
    "print \"Clasificador: clasificador Naive Bayes con correción de Laplace\"\n",
    "clasificador = ClasificadorNaiveBayes()\n",
    "print \"Ejecucción: \"\n",
    "print \"________________________________________________________________\"\n",
    "laplace = True\n",
    "errores=clasificador.validacion(estrategia,dataset,clasificador,laplace)"
   ]
  },
  {
   "cell_type": "markdown",
   "metadata": {},
   "source": [
    "#### J. creddit apporval clean (A priori)"
   ]
  },
  {
   "cell_type": "code",
   "execution_count": 11,
   "metadata": {
    "collapsed": false
   },
   "outputs": [
    {
     "name": "stdout",
     "output_type": "stream",
     "text": [
      "\n",
      "Fichero de datos: crx_clean.data\n",
      "Estrategia: validacion cruzada, numParticiones: 10\n",
      "Clasificador: clasificador a Priori\n",
      "Ejecucción: \n",
      "________________________________________________________________\n",
      "Datos de train y test para [ 10 ] grupos:\n",
      "Correción de Laplace: False\n",
      "=================RESULTADO====================\n",
      "Array de % de errores obtenidos: [43.939 43.939 43.939 50.769 44.615 47.692 36.923 49.231 43.077 49.231] \n",
      "Media de errores total: 45.3356643357 %\n",
      "Mediana de errores total: 44.2773892774 %\n",
      "Desviación típica: 3.84268332508 %\n"
     ]
    }
   ],
   "source": [
    "print \"\\nFichero de datos: crx_clean.data\"\n",
    "dataset=Datos('./ConjuntosDatos/crx_clean.data',True)\n",
    "print \"Estrategia: validacion cruzada, numParticiones: 10\"\n",
    "estrategia=ValidacionCruzada(10)\n",
    "print \"Clasificador: clasificador a Priori\"\n",
    "clasificador = ClasificadorAPriori()\n",
    "print \"Ejecucción: \"\n",
    "print \"________________________________________________________________\"\n",
    "laplace = False\n",
    "errores=clasificador.validacion(estrategia,dataset,clasificador,laplace)"
   ]
  },
  {
   "cell_type": "markdown",
   "metadata": {},
   "source": [
    "#### K. credit approval clean (NB)"
   ]
  },
  {
   "cell_type": "code",
   "execution_count": 12,
   "metadata": {
    "collapsed": false
   },
   "outputs": [
    {
     "name": "stdout",
     "output_type": "stream",
     "text": [
      "\n",
      "Fichero de datos: crx_clean.data\n",
      "Estrategia: validacion cruzada, numParticiones: 10\n",
      "Clasificador: clasificador Naive Bayes sin correción de Laplace\n",
      "Ejecucción: \n",
      "________________________________________________________________\n",
      "Datos de train y test para [ 10 ] grupos:\n",
      "Correción de Laplace: False\n",
      "=================RESULTADO====================\n",
      "Array de % de errores obtenidos: [56.061 59.091 42.424 58.462 50.769 46.154 58.462 47.692 56.923 50.769] \n",
      "Media de errores total: 52.6806526807 %\n",
      "Mediana de errores total: 53.4149184149 %\n",
      "Desviación típica: 5.63324705945 %\n"
     ]
    }
   ],
   "source": [
    "print \"\\nFichero de datos: crx_clean.data\"\n",
    "dataset=Datos('./ConjuntosDatos/crx_clean.data',True)\n",
    "print \"Estrategia: validacion cruzada, numParticiones: 10\"\n",
    "estrategia=ValidacionCruzada(10)\n",
    "print \"Clasificador: clasificador Naive Bayes sin correción de Laplace\"\n",
    "clasificador = ClasificadorNaiveBayes()\n",
    "print \"Ejecucción: \"\n",
    "print \"________________________________________________________________\"\n",
    "laplace = False\n",
    "errores=clasificador.validacion(estrategia,dataset,clasificador,laplace)"
   ]
  },
  {
   "cell_type": "markdown",
   "metadata": {},
   "source": [
    "#### L: creddit approval (NB, Laplace)"
   ]
  },
  {
   "cell_type": "code",
   "execution_count": 13,
   "metadata": {
    "collapsed": false,
    "scrolled": true
   },
   "outputs": [
    {
     "name": "stdout",
     "output_type": "stream",
     "text": [
      "\n",
      "Fichero de datos: crx_clean.data\n",
      "Estrategia: validacion cruzada, numParticiones: 10\n",
      "Clasificador: clasificador Naive Bayes con correción de Laplace\n",
      "Ejecucción: \n",
      "________________________________________________________________\n",
      "Datos de train y test para [ 10 ] grupos:\n",
      "Correción de Laplace: True\n",
      "=================RESULTADO====================\n",
      "Array de % de errores obtenidos: [54.545 56.061 57.576 58.462 49.231 50.769 49.231 67.692 47.692 40.000] \n",
      "Media de errores total: 53.1258741259 %\n",
      "Mediana de errores total: 52.6573426573 %\n",
      "Desviación típica: 7.13294673691 %\n"
     ]
    }
   ],
   "source": [
    "print \"\\nFichero de datos: crx_clean.data\"\n",
    "dataset=Datos('./ConjuntosDatos/crx_clean.data',True)\n",
    "print \"Estrategia: validacion cruzada, numParticiones: 10\"\n",
    "estrategia=ValidacionCruzada(10)\n",
    "print \"Clasificador: clasificador Naive Bayes con correción de Laplace\"\n",
    "clasificador = ClasificadorNaiveBayes()\n",
    "print \"Ejecucción: \"\n",
    "print \"________________________________________________________________\"\n",
    "laplace = True\n",
    "errores=clasificador.validacion(estrategia,dataset,clasificador,laplace)"
   ]
  },
  {
   "cell_type": "markdown",
   "metadata": {},
   "source": [
    "#### M. digits (A priori)"
   ]
  },
  {
   "cell_type": "code",
   "execution_count": 14,
   "metadata": {
    "collapsed": false
   },
   "outputs": [
    {
     "name": "stdout",
     "output_type": "stream",
     "text": [
      "\n",
      "Fichero de datos: digits.data\n",
      "Estrategia: validacion cruzada, numParticiones: 10\n",
      "Clasificador: clasificador a Priori\n",
      "Ejecucción: \n",
      "________________________________________________________________\n",
      "Datos de train y test para [ 10 ] grupos:\n",
      "Correción de Laplace: False\n",
      "=================RESULTADO====================\n",
      "Array de % de errores obtenidos: [95.745 93.617 96.809 94.681 95.745 93.617 95.745 93.617 94.681 94.681] \n",
      "Media de errores total: 94.8936170213 %\n",
      "Mediana de errores total: 94.6808510638 %\n",
      "Desviación típica: 1.04233606076 %\n"
     ]
    }
   ],
   "source": [
    "print \"\\nFichero de datos: digits.data\"\n",
    "dataset=Datos('./ConjuntosDatos/digits.data',True)\n",
    "print \"Estrategia: validacion cruzada, numParticiones: 10\"\n",
    "estrategia=ValidacionCruzada(10)\n",
    "print \"Clasificador: clasificador a Priori\"\n",
    "clasificador = ClasificadorAPriori()\n",
    "print \"Ejecucción: \"\n",
    "print \"________________________________________________________________\"\n",
    "laplace = False\n",
    "errores=clasificador.validacion(estrategia,dataset,clasificador,laplace)"
   ]
  },
  {
   "cell_type": "markdown",
   "metadata": {},
   "source": [
    "#### N. digits (NB)"
   ]
  },
  {
   "cell_type": "code",
   "execution_count": 15,
   "metadata": {
    "collapsed": false
   },
   "outputs": [
    {
     "name": "stdout",
     "output_type": "stream",
     "text": [
      "Fichero de datos: digits.data\n",
      "Estrategia: validacion cruzada, numParticiones: 10\n",
      "Clasificador: clasificador Naive Bayes sin correción de Laplace\n",
      "Ejecucción: \n",
      "________________________________________________________________\n",
      "Datos de train y test para [ 10 ] grupos:\n",
      "Correción de Laplace: False\n",
      "=================RESULTADO====================\n",
      "Array de % de errores obtenidos: [93.617 87.234 93.617 89.362 82.979 93.617 89.362 93.617 93.617 94.681] \n",
      "Media de errores total: 91.170212766 %\n",
      "Mediana de errores total: 93.6170212766 %\n",
      "Desviación típica: 3.62483511434 %\n"
     ]
    }
   ],
   "source": [
    "print \"Fichero de datos: digits.data\"\n",
    "dataset=Datos('./ConjuntosDatos/digits.data',True)\n",
    "print \"Estrategia: validacion cruzada, numParticiones: 10\"\n",
    "estrategia=ValidacionCruzada(10)\n",
    "print \"Clasificador: clasificador Naive Bayes sin correción de Laplace\"\n",
    "clasificador = ClasificadorNaiveBayes()\n",
    "print \"Ejecucción: \"\n",
    "print \"________________________________________________________________\"\n",
    "laplace = False\n",
    "errores=clasificador.validacion(estrategia,dataset,clasificador,laplace)"
   ]
  },
  {
   "cell_type": "markdown",
   "metadata": {},
   "source": [
    "#### O. digits (NB, Laplace)"
   ]
  },
  {
   "cell_type": "code",
   "execution_count": 16,
   "metadata": {
    "collapsed": false
   },
   "outputs": [
    {
     "name": "stdout",
     "output_type": "stream",
     "text": [
      "Fichero de datos: digits.data\n",
      "Estrategia: validacion cruzada, numParticiones: 10\n",
      "Clasificador: clasificador Naive Bayes con correción de Laplace\n",
      "Ejecucción: \n",
      "________________________________________________________________\n",
      "Datos de train y test para [ 10 ] grupos:\n",
      "Correción de Laplace: True\n",
      "=================RESULTADO====================\n",
      "Array de % de errores obtenidos: [88.298 90.426 92.553 93.617 86.170 89.362 91.489 95.745 88.298 88.298] \n",
      "Media de errores total: 90.4255319149 %\n",
      "Mediana de errores total: 89.8936170213 %\n",
      "Desviación típica: 2.77412868306 %\n"
     ]
    }
   ],
   "source": [
    "print \"Fichero de datos: digits.data\"\n",
    "dataset=Datos('./ConjuntosDatos/digits.data',True)\n",
    "print \"Estrategia: validacion cruzada, numParticiones: 10\"\n",
    "estrategia=ValidacionCruzada(10)\n",
    "print \"Clasificador: clasificador Naive Bayes con correción de Laplace\"\n",
    "clasificador = ClasificadorNaiveBayes()\n",
    "print \"Ejecucción: \"\n",
    "print \"________________________________________________________________\"\n",
    "laplace = True\n",
    "errores=clasificador.validacion(estrategia,dataset,clasificador,laplace)"
   ]
  },
  {
   "cell_type": "markdown",
   "metadata": {},
   "source": [
    "### Apartado 2\n",
    "\n",
    "A la vista de los resultados en sucesivas ejecuciones de las pruiebas, para los distintos conjuntos de datos, sacamos las siguiesntes conclusiones:\n",
    "* **tic-tac-toe**: Comparando las tasas de error (~30%) para las distintas versiones de pruebas, podemos decir que influye poco el clasificador o el uso de la corrección de Laplace. Lo primero se debe a que todos los atributos son nominales. En cuanto a la falta de variación con Laplace, dado que no hay casos que no estén contemplados, no influye en la predicción.\n",
    "* **wine**: Para este conjunto de datos, hemos observado que obtenemos una tasa media de error del orden del 60%. Tras contrastar estos resultados con la clase, nos damos cuenta aquí que es posible que no estemos clasificando correctamente los conjuntos de datos con atributos continuos. No podemos sacar nada conlcuyente ya que obtenemos mas o menos el mismo error para \"A priori\" y NB, sin importar la correción de Laplace en principio (aunque dependerá de si los atributos continuos se ajustan a una distribución normal o no).\n",
    "* **credit apporval**: De nuevo obtenemos una tasa de errores muy alta, del orden del 50% en todas sus variantes (con o sin corrección de Laplace, normal o clean). Sin embargo, tras realizar varias ejecuciones, vemos que la clasificación a priori suele tener un 5% menos de errores de media. Al ser un conjunto de datos mixto, esto refuerza nuestra teoría de que estamos realizando mal alguna parte del proceso de clasificación cuando introducimos atributos continuos en el conjunto de datos.\n",
    "* **digits**: Este último conjunto de datos está formado sólo por atributos continuos. Como obtenemos tasas de error aún más altas, del orden del 90% en todas sus variantes, confirmamos lo comentado anteriormente. No podemos sacar nada concluyente de estos resultados y nos queda revisar nuestro código."
   ]
  },
  {
   "cell_type": "markdown",
   "metadata": {},
   "source": [
    "### Apartado 3\n",
    "Para el conjunto tic-tac-toe calculamos las probabilidades a priori y máx. verosimilitud (sin y con correción de Laplace) para los atributos que se nos pide del conjunto tic-tac-toe."
   ]
  },
  {
   "cell_type": "code",
   "execution_count": 17,
   "metadata": {
    "collapsed": false
   },
   "outputs": [
    {
     "name": "stdout",
     "output_type": "stream",
     "text": [
      "Apartado 3 de la memoria- Fichero de datos tic-tac-toe.data\n",
      "Estrategia: validacion cruzada, numParticiones: 10\n",
      "Datos de train y test para [ 10 ] grupos:\n",
      "Apartado num: 3\n",
      "Prob. a priori para P(Class=positive) 0.654292343387\n",
      "Prob. a priori para P(Class=negative) 0.345707656613\n",
      "Prob. de máxima verosimilitud para P(MLeftSq=b|Class=positive) 0.264184397163\n",
      "Prob. de máxima verosimilitud para P(TRightSq=x|Class=negative) 0.369127516779\n",
      "Prob. de máxima verosimilitud con corrección de Laplace para P(MLeftSq=b|Class=positive) 0.26455026455\n",
      "Prob. de máxima verosimilitud con corrección de Laplace para P(TRightSq=x|Class=negative) 0.36877076412\n"
     ]
    }
   ],
   "source": [
    "from Datos import Datos\n",
    "from EstrategiaParticionado import ValidacionCruzada\n",
    "from Clasificador import ClasificadorAPriori\n",
    "\n",
    "print \"Apartado 3 de la memoria- Fichero de datos tic-tac-toe.data\"\n",
    "dataset=Datos('./ConjuntosDatos/tic-tac-toe.data',True)\n",
    "print \"Estrategia: validacion cruzada, numParticiones: 10\"\n",
    "estrategia=ValidacionCruzada(10)\n",
    "clasificador=ClasificadorAPriori()\n",
    "\n",
    "errores=clasificador.validacionApartado(estrategia,dataset,clasificador,3)"
   ]
  },
  {
   "cell_type": "markdown",
   "metadata": {},
   "source": [
    "### Apartado 4\n",
    "Para el conjunto credit-approval calculamos de nuevo las probabilidades a priori, máx. verosimilitud asíc omo la media y std de los atributos continuos que nos piden en 2 sub-apartados (para la primera partición, validación cruzada).\n"
   ]
  },
  {
   "cell_type": "markdown",
   "metadata": {},
   "source": [
    "#### A. Probabilidades, media y std para credit approval \n",
    "Con el fichero 'cx.data'"
   ]
  },
  {
   "cell_type": "code",
   "execution_count": 18,
   "metadata": {
    "collapsed": false
   },
   "outputs": [
    {
     "name": "stdout",
     "output_type": "stream",
     "text": [
      "\n",
      "Apartado 4 de la memoria- Fichero de datos crx.data\n",
      "Estrategia: validacion cruzada, numParticiones: 10\n",
      "Datos de train y test para [ 10 ] grupos:\n",
      "Apartado num: 4\n",
      "Prob. a priori para P(Class=positive) 0.446054750403\n",
      "Prob. a priori para P(Class=negative) 0.553945249597\n",
      "Prob. de máxima verosimilitud para P(A7=bb|Class=+) 0.086642599278\n",
      "Prob. de máxima verosimilitud para P(A4=u|Class=-) 0.68023255814\n",
      "Media ( 36.7746931408 ) y desviación típica ( 35.46854339 ) del atributo A2 condicionado a clase +\n",
      "Media ( 168.949458484 ) y desviación típica ( 167.1460956 ) del atributo A14 condicionado a clase +\n",
      "Media ( 2197.94584838 ) y desviación típica ( 8023.46511579 ) del atributo A15 condicionado a clase +\n"
     ]
    }
   ],
   "source": [
    "print \"\\nApartado 4 de la memoria- Fichero de datos crx.data\"\n",
    "dataset=Datos('./ConjuntosDatos/crx.data',True)\n",
    "print \"Estrategia: validacion cruzada, numParticiones: 10\"\n",
    "estrategia=ValidacionCruzada(10)\n",
    "clasificador=ClasificadorAPriori()\n",
    "\n",
    "errores=clasificador.validacionApartado(estrategia,dataset,clasificador,4)"
   ]
  },
  {
   "cell_type": "markdown",
   "metadata": {},
   "source": [
    "#### B. Probabilidades, media y std para credit approval (clean)\n",
    "Con el fichero 'crx_clean.data'"
   ]
  },
  {
   "cell_type": "code",
   "execution_count": 19,
   "metadata": {
    "collapsed": false
   },
   "outputs": [
    {
     "name": "stdout",
     "output_type": "stream",
     "text": [
      "\n",
      "Apartado 4 de la memoria- Fichero de datos crx_clean.data\n",
      "Estrategia: validacion cruzada, numParticiones: 10\n",
      "Datos de train y test para [ 10 ] grupos:\n",
      "Apartado num: 4\n",
      "Prob. a priori para P(Class=positive) 0.463373083475\n",
      "Prob. a priori para P(Class=negative) 0.536626916525\n",
      "Prob. de máxima verosimilitud para P(A7=bb|Class=+) 0.0808823529412\n",
      "Prob. de máxima verosimilitud para P(A4=u|Class=-) 0.701587301587\n",
      "Media ( 33.515 ) y desviación típica ( 12.5196151408 ) del atributo A2 condicionado a clase +\n",
      "Media ( 168.044117647 ) y desviación típica ( 163.501883866 ) del atributo A14 condicionado a clase +\n",
      "Media ( 2096.79044118 ) y desviación típica ( 7953.80741592 ) del atributo A15 condicionado a clase +\n"
     ]
    }
   ],
   "source": [
    "print \"\\nApartado 4 de la memoria- Fichero de datos crx_clean.data\"\n",
    "dataset=Datos('./ConjuntosDatos/crx_clean.data',True)\n",
    "print \"Estrategia: validacion cruzada, numParticiones: 10\"\n",
    "estrategia=ValidacionCruzada(10)\n",
    "clasificador=ClasificadorAPriori()\n",
    "\n",
    "errores=clasificador.validacionApartado(estrategia,dataset,clasificador,4)"
   ]
  }
 ],
 "metadata": {
  "anaconda-cloud": {},
  "kernelspec": {
   "display_name": "Python 2",
   "language": "python",
   "name": "python2"
  },
  "language_info": {
   "codemirror_mode": {
    "name": "ipython",
    "version": 2
   },
   "file_extension": ".py",
   "mimetype": "text/x-python",
   "name": "python",
   "nbconvert_exporter": "python",
   "pygments_lexer": "ipython2",
   "version": "2.7.12"
  }
 },
 "nbformat": 4,
 "nbformat_minor": 0
}
