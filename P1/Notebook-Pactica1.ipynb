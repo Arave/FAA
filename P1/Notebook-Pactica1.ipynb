{
 "cells": [
  {
   "cell_type": "markdown",
   "metadata": {},
   "source": [
    "# Práctica 1. Ipyhton notebook con pruebas y resultados\n",
    "\n",
    "<br>**Asignatura:** Prácticas de Fundamentos de Aprendizaje Automático</br>\n",
    "<br>**Autores:** Albert Soler y Alfonso Sebares</br>\n",
    "\n",
    "### Qué hay en este notebook:\n",
    "\n",
    "De manera estructurada por los apartados especificados en el enunciado, se incluyen las instrucciones necesarias para realizar las pruebas descritas en el apartado 3 del enunciado, así como una breve descripción y análisis de dichas pruebas.\n",
    "\n",
    "### Índice:\n",
    "1. Apartado 1 \n",
    "    1. tic-tac-toe\n",
    "    2. tic-tac-toe (Laplace)\n",
    "    3. wine\n",
    "    4. wine (Laplace)\n",
    "    5. credit approval\n",
    "    6. credit approval (Laplace)\n",
    "    7. digits\n",
    "    8. digits (Laplace)\n",
    "2. Apartado 2\n",
    "3. Apartado 3\n",
    "    1. Probabilidades a priori\n",
    "    2. Probabilidades de máx. verosimilitud\n",
    "    3. Aplicando corrección de Laplace\n",
    "4. Apartado 4\n",
    "    1. Probabilidades a priori\n",
    "    2. Probabilidades de máx. verosimilitud\n",
    "    3. Media y desviación típica\n",
    "------------------------------------"
   ]
  },
  {
   "cell_type": "markdown",
   "metadata": {},
   "source": [
    "Primero preparamos el notebook para poder utilizar las funciones de la estructura de clases así como acceder a las variables de clase:"
   ]
  },
  {
   "cell_type": "code",
   "execution_count": 1,
   "metadata": {
    "collapsed": true
   },
   "outputs": [],
   "source": [
    "import os\n",
    "import sys\n",
    "module_path = os.path.abspath(os.path.join('..'))\n",
    "if module_path not in sys.path:\n",
    "    sys.path.append(module_path)"
   ]
  },
  {
   "cell_type": "markdown",
   "metadata": {},
   "source": [
    "### Apartado 1\n",
    "A continuación tenemos por apartados los resultados de la ejecución para los distintos conjuntos de datos analizados. Las pruebas se realizan con validación cruzada, k=10.\n",
    "#### A. tic-tac-toe"
   ]
  },
  {
   "cell_type": "code",
   "execution_count": 5,
   "metadata": {
    "collapsed": false
   },
   "outputs": [
    {
     "name": "stdout",
     "output_type": "stream",
     "text": [
      "Apartado 1 de la memoria\n",
      "\n",
      "Fichero de datos: tic-tac-toe.data\n",
      "Estrategia: validacion cruzada, numParticiones: 10\n",
      "Clasificador: clasificador Naive Bayes sin correción de Laplace\n",
      "Ejecucción: \n",
      "________________________________________________________________\n",
      "Datos de train y test para [ 10 ] grupos:\n",
      "Correción de Laplace: False\n",
      "=================RESULTADO====================\n",
      "Array de % de errores obtenidos: [62.500 60.417 65.625 64.583 69.792 68.750 61.458 66.667 66.316 67.368] \n",
      "Media de errores total: 65.3475877193 %\n",
      "Mediana de errores total: 65.9703947368 %\n",
      "Desviación típica: 2.93764324844 %\n"
     ]
    }
   ],
   "source": [
    "from Datos import Datos\n",
    "from EstrategiaParticionado import ValidacionCruzada\n",
    "from Clasificador import ClasificadorNaiveBayes\n",
    "\n",
    "\n",
    "print \"Apartado 1 de la memoria\"\n",
    "print \"\\nFichero de datos: tic-tac-toe.data\"\n",
    "dataset=Datos('./ConjuntosDatos/tic-tac-toe.data',True)\n",
    "print \"Estrategia: validacion cruzada, numParticiones: 10\"\n",
    "estrategia=ValidacionCruzada(10)\n",
    "print \"Clasificador: clasificador Naive Bayes sin correción de Laplace\"\n",
    "clasificador = ClasificadorNaiveBayes()\n",
    "print \"Ejecucción: \"\n",
    "print \"________________________________________________________________\"\n",
    "laplace = False\n",
    "errores=clasificador.validacion(estrategia,dataset,clasificador,laplace)"
   ]
  },
  {
   "cell_type": "markdown",
   "metadata": {},
   "source": [
    "#### B. tic-tac-toe (Laplace)"
   ]
  },
  {
   "cell_type": "code",
   "execution_count": 4,
   "metadata": {
    "collapsed": false
   },
   "outputs": [
    {
     "name": "stdout",
     "output_type": "stream",
     "text": [
      "\n",
      "Fichero de datos: tic-tac-toe.data\n",
      "Estrategia: validacion cruzada, numParticiones: 10\n",
      "Clasificador: clasificador Naive Bayes con correción de Laplace\n",
      "Ejecucción: \n",
      "________________________________________________________________\n",
      "Datos de train y test para [ 10 ] grupos:\n",
      "Correción de Laplace: True\n",
      "=================RESULTADO====================\n",
      "Array de % de errores obtenidos: [64.583 65.625 66.667 55.208 68.750 63.542 72.917 59.375 67.368 69.474] \n",
      "Media de errores total: 65.350877193 %\n",
      "Mediana de errores total: 66.1458333333 %\n",
      "Desviación típica: 4.83853637865 %\n"
     ]
    }
   ],
   "source": [
    "print \"\\nFichero de datos: tic-tac-toe.data\"\n",
    "dataset=Datos('./ConjuntosDatos/tic-tac-toe.data',True)\n",
    "print \"Estrategia: validacion cruzada, numParticiones: 10\"\n",
    "estrategia=ValidacionCruzada(10)\n",
    "print \"Clasificador: clasificador Naive Bayes con correción de Laplace\"\n",
    "clasificador = ClasificadorNaiveBayes()\n",
    "print \"Ejecucción: \"\n",
    "print \"________________________________________________________________\"\n",
    "laplace = True\n",
    "errores=clasificador.validacion(estrategia,dataset,clasificador,laplace)\n",
    "#print \"\\n\""
   ]
  },
  {
   "cell_type": "markdown",
   "metadata": {},
   "source": [
    "#### C. wine"
   ]
  },
  {
   "cell_type": "code",
   "execution_count": 6,
   "metadata": {
    "collapsed": false
   },
   "outputs": [
    {
     "name": "stdout",
     "output_type": "stream",
     "text": [
      "\n",
      "Fichero de datos: wine_proc.data\n",
      "Estrategia: validacion cruzada, numParticiones: 10\n",
      "Clasificador: clasificador Naive Bayes sin correción de Laplace\n",
      "Ejecucción: \n",
      "________________________________________________________________\n",
      "Datos de train y test para [ 10 ] grupos:\n",
      "Correción de Laplace: False\n",
      "=================RESULTADO====================\n",
      "Array de % de errores obtenidos: [72.222 77.778 61.111 66.667 66.667 55.556 77.778 77.778 64.706 47.059] \n",
      "Media de errores total: 66.7320261438 %\n",
      "Mediana de errores total: 66.6666666667 %\n",
      "Desviación típica: 9.71506574637 %\n"
     ]
    }
   ],
   "source": [
    "print \"\\nFichero de datos: wine_proc.data\"\n",
    "dataset=Datos('./ConjuntosDatos/wine_proc.data',True)\n",
    "print \"Estrategia: validacion cruzada, numParticiones: 10\"\n",
    "estrategia=ValidacionCruzada(10)\n",
    "print \"Clasificador: clasificador Naive Bayes sin correción de Laplace\"\n",
    "clasificador = ClasificadorNaiveBayes()\n",
    "print \"Ejecucción: \"\n",
    "print \"________________________________________________________________\"\n",
    "laplace = False\n",
    "errores=clasificador.validacion(estrategia,dataset,clasificador,laplace)"
   ]
  },
  {
   "cell_type": "markdown",
   "metadata": {},
   "source": [
    "#### D. wine (Laplace)"
   ]
  },
  {
   "cell_type": "code",
   "execution_count": 7,
   "metadata": {
    "collapsed": false
   },
   "outputs": [
    {
     "name": "stdout",
     "output_type": "stream",
     "text": [
      "\n",
      "Fichero de datos: wine_proc.data\n",
      "Estrategia: validacion cruzada, numParticiones: 10\n",
      "Clasificador: clasificador Naive Bayes con correción de Laplace\n",
      "Ejecucción: \n",
      "________________________________________________________________\n",
      "Datos de train y test para [ 10 ] grupos:\n",
      "Correción de Laplace: True\n",
      "=================RESULTADO====================\n",
      "Array de % de errores obtenidos: [88.889 44.444 72.222 50.000 55.556 72.222 61.111 77.778 82.353 64.706] \n",
      "Media de errores total: 66.9281045752 %\n",
      "Mediana de errores total: 68.4640522876 %\n",
      "Desviación típica: 13.616749454 %\n"
     ]
    }
   ],
   "source": [
    "print \"\\nFichero de datos: wine_proc.data\"\n",
    "dataset=Datos('./ConjuntosDatos/wine_proc.data',True)\n",
    "print \"Estrategia: validacion cruzada, numParticiones: 10\"\n",
    "estrategia=ValidacionCruzada(10)\n",
    "print \"Clasificador: clasificador Naive Bayes con correción de Laplace\"\n",
    "clasificador = ClasificadorNaiveBayes()\n",
    "print \"Ejecucción: \"\n",
    "print \"________________________________________________________________\"\n",
    "laplace = True\n",
    "errores=clasificador.validacion(estrategia,dataset,clasificador,laplace)"
   ]
  },
  {
   "cell_type": "markdown",
   "metadata": {},
   "source": [
    "#### E. credit approval"
   ]
  },
  {
   "cell_type": "code",
   "execution_count": 8,
   "metadata": {
    "collapsed": false
   },
   "outputs": [
    {
     "name": "stdout",
     "output_type": "stream",
     "text": [
      "\n",
      "Fichero de datos: crx_clean.data\n",
      "Estrategia: validacion cruzada, numParticiones: 10\n",
      "Clasificador: clasificador Naive Bayes sin correción de Laplace\n",
      "Ejecucción: \n",
      "________________________________________________________________\n",
      "Datos de train y test para [ 10 ] grupos:\n",
      "Correción de Laplace: False\n",
      "=================RESULTADO====================\n",
      "Array de % de errores obtenidos: [34.848 31.818 37.879 52.308 32.308 29.231 38.462 38.462 23.077 29.231] \n",
      "Media de errores total: 34.7622377622 %\n",
      "Mediana de errores total: 33.5780885781 %\n",
      "Desviación típica: 7.46569538648 %\n"
     ]
    }
   ],
   "source": [
    "print \"\\nFichero de datos: crx_clean.data\"\n",
    "dataset=Datos('./ConjuntosDatos/crx_clean.data',True)\n",
    "print \"Estrategia: validacion cruzada, numParticiones: 10\"\n",
    "estrategia=ValidacionCruzada(10)\n",
    "print \"Clasificador: clasificador Naive Bayes sin correción de Laplace\"\n",
    "clasificador = ClasificadorNaiveBayes()\n",
    "print \"Ejecucción: \"\n",
    "print \"________________________________________________________________\"\n",
    "laplace = False\n",
    "errores=clasificador.validacion(estrategia,dataset,clasificador,laplace)"
   ]
  },
  {
   "cell_type": "markdown",
   "metadata": {},
   "source": [
    "#### F. credit approval (Laplace)"
   ]
  },
  {
   "cell_type": "code",
   "execution_count": 9,
   "metadata": {
    "collapsed": false
   },
   "outputs": [
    {
     "name": "stdout",
     "output_type": "stream",
     "text": [
      "\n",
      "Fichero de datos: crx_clean.data\n",
      "Estrategia: validacion cruzada, numParticiones: 10\n",
      "Clasificador: clasificador Naive Bayes con correción de Laplace\n",
      "Ejecucción: \n",
      "________________________________________________________________\n",
      "Datos de train y test para [ 10 ] grupos:\n",
      "Correción de Laplace: True\n",
      "=================RESULTADO====================\n",
      "Array de % de errores obtenidos: [57.576 59.091 59.091 55.385 64.615 55.385 73.846 56.923 53.846 60.000] \n",
      "Media de errores total: 59.5757575758 %\n",
      "Mediana de errores total: 58.3333333333 %\n",
      "Desviación típica: 5.5559752288 %\n"
     ]
    }
   ],
   "source": [
    "print \"\\nFichero de datos: crx_clean.data\"\n",
    "dataset=Datos('./ConjuntosDatos/crx_clean.data',True)\n",
    "print \"Estrategia: validacion cruzada, numParticiones: 10\"\n",
    "estrategia=ValidacionCruzada(10)\n",
    "print \"Clasificador: clasificador Naive Bayes con correción de Laplace\"\n",
    "clasificador = ClasificadorNaiveBayes()\n",
    "print \"Ejecucción: \"\n",
    "print \"________________________________________________________________\"\n",
    "laplace = True\n",
    "errores=clasificador.validacion(estrategia,dataset,clasificador,laplace)"
   ]
  },
  {
   "cell_type": "markdown",
   "metadata": {},
   "source": [
    "#### G. digits"
   ]
  },
  {
   "cell_type": "code",
   "execution_count": 10,
   "metadata": {
    "collapsed": false
   },
   "outputs": [
    {
     "name": "stdout",
     "output_type": "stream",
     "text": [
      "\n",
      "Fichero de datos: digits.data\n",
      "Estrategia: validacion cruzada, numParticiones: 10\n",
      "Clasificador: clasificador Naive Bayes sin correción de Laplace\n",
      "Ejecucción: \n",
      "________________________________________________________________\n",
      "Datos de train y test para [ 10 ] grupos:\n",
      "Correción de Laplace: False\n",
      "=================RESULTADO====================\n",
      "Array de % de errores obtenidos: [91.489 90.426 90.426 93.617 84.043 88.298 89.362 88.298 92.553 91.489] \n",
      "Media de errores total: 90.0 %\n",
      "Mediana de errores total: 90.4255319149 %\n",
      "Desviación típica: 2.57086084545 %\n"
     ]
    }
   ],
   "source": [
    "print \"\\nFichero de datos: digits.data\"\n",
    "dataset=Datos('./ConjuntosDatos/digits.data',True)\n",
    "print \"Estrategia: validacion cruzada, numParticiones: 10\"\n",
    "estrategia=ValidacionCruzada(10)\n",
    "print \"Clasificador: clasificador Naive Bayes sin correción de Laplace\"\n",
    "clasificador = ClasificadorNaiveBayes()\n",
    "print \"Ejecucción: \"\n",
    "print \"________________________________________________________________\"\n",
    "laplace = False\n",
    "errores=clasificador.validacion(estrategia,dataset,clasificador,laplace)"
   ]
  },
  {
   "cell_type": "markdown",
   "metadata": {},
   "source": [
    "#### H: digits (Laplace)"
   ]
  },
  {
   "cell_type": "code",
   "execution_count": 11,
   "metadata": {
    "collapsed": false
   },
   "outputs": [
    {
     "name": "stdout",
     "output_type": "stream",
     "text": [
      "\n",
      "Fichero de datos: digits.data\n",
      "Estrategia: validacion cruzada, numParticiones: 10\n",
      "Clasificador: clasificador Naive Bayes con correción de Laplace\n",
      "Ejecucción: \n",
      "________________________________________________________________\n",
      "Datos de train y test para [ 10 ] grupos:\n",
      "Correción de Laplace: True\n",
      "=================RESULTADO====================\n",
      "Array de % de errores obtenidos: [92.553 88.298 93.617 85.106 90.426 86.170 91.489 93.617 89.362 89.362] \n",
      "Media de errores total: 90.0 %\n",
      "Mediana de errores total: 89.8936170213 %\n",
      "Desviación típica: 2.78227592141 %\n"
     ]
    }
   ],
   "source": [
    "print \"\\nFichero de datos: digits.data\"\n",
    "dataset=Datos('./ConjuntosDatos/digits.data',True)\n",
    "print \"Estrategia: validacion cruzada, numParticiones: 10\"\n",
    "estrategia=ValidacionCruzada(10)\n",
    "print \"Clasificador: clasificador Naive Bayes con correción de Laplace\"\n",
    "clasificador = ClasificadorNaiveBayes()\n",
    "print \"Ejecucción: \"\n",
    "print \"________________________________________________________________\"\n",
    "laplace = True\n",
    "errores=clasificador.validacion(estrategia,dataset,clasificador,laplace)"
   ]
  },
  {
   "cell_type": "markdown",
   "metadata": {},
   "source": [
    "### Apartado 2\n",
    "Breve análisis de los apartados anteriores"
   ]
  },
  {
   "cell_type": "markdown",
   "metadata": {},
   "source": [
    "### Apartado 3\n",
    "Para el conjunto tic-tac-toe calculamos las probabilidades que se nos piden en los siguientes sub-apartados para la primera partición, validación cruzada\n",
    "#### A. Probabilidades a priori"
   ]
  },
  {
   "cell_type": "code",
   "execution_count": null,
   "metadata": {
    "collapsed": true
   },
   "outputs": [],
   "source": [
    ""
   ]
  },
  {
   "cell_type": "markdown",
   "metadata": {},
   "source": [
    "#### B. Probabilidades de máx. verosimilitud"
   ]
  },
  {
   "cell_type": "code",
   "execution_count": null,
   "metadata": {
    "collapsed": true
   },
   "outputs": [],
   "source": [
    ""
   ]
  },
  {
   "cell_type": "markdown",
   "metadata": {},
   "source": [
    "#### C. Aplicando correción de Laplace"
   ]
  },
  {
   "cell_type": "code",
   "execution_count": null,
   "metadata": {
    "collapsed": true
   },
   "outputs": [],
   "source": [
    ""
   ]
  },
  {
   "cell_type": "markdown",
   "metadata": {},
   "source": [
    "### Apartado 4\n",
    "Para el conjunto credit-approval calculamos de nuevo las probabilidades que nos piden en 3 sub-apartados, de nuevo para la primera partición y validación cruzada.\n",
    "#### A. Probabilidades a priori"
   ]
  },
  {
   "cell_type": "code",
   "execution_count": null,
   "metadata": {
    "collapsed": true
   },
   "outputs": [],
   "source": [
    ""
   ]
  },
  {
   "cell_type": "markdown",
   "metadata": {},
   "source": [
    "#### B. Probabilidades de máx. verosimilitud"
   ]
  },
  {
   "cell_type": "code",
   "execution_count": null,
   "metadata": {
    "collapsed": true
   },
   "outputs": [],
   "source": [
    ""
   ]
  },
  {
   "cell_type": "markdown",
   "metadata": {},
   "source": [
    "#### C. Media y desviación típica"
   ]
  },
  {
   "cell_type": "code",
   "execution_count": null,
   "metadata": {
    "collapsed": true
   },
   "outputs": [],
   "source": [
    ""
   ]
  }
 ],
 "metadata": {
  "anaconda-cloud": {},
  "kernelspec": {
   "display_name": "Python 2",
   "language": "python",
   "name": "python2"
  },
  "language_info": {
   "codemirror_mode": {
    "name": "ipython",
    "version": 2.0
   },
   "file_extension": ".py",
   "mimetype": "text/x-python",
   "name": "python",
   "nbconvert_exporter": "python",
   "pygments_lexer": "ipython2",
   "version": "2.7.12"
  }
 },
 "nbformat": 4,
 "nbformat_minor": 0
}